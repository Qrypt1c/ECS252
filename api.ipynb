{
 "cells": [
  {
   "cell_type": "code",
   "execution_count": 1,
   "metadata": {},
   "outputs": [
    {
     "name": "stdout",
     "output_type": "stream",
     "text": [
      "Collecting TikTokApi\n",
      "  Downloading TikTokApi-6.2.1-py3-none-any.whl.metadata (8.6 kB)\n",
      "Collecting requests (from TikTokApi)\n",
      "  Downloading requests-2.31.0-py3-none-any.whl.metadata (4.6 kB)\n",
      "Collecting playwright (from TikTokApi)\n",
      "  Downloading playwright-1.41.2-py3-none-manylinux1_x86_64.whl.metadata (3.6 kB)\n",
      "Collecting greenlet==3.0.3 (from playwright->TikTokApi)\n",
      "  Downloading greenlet-3.0.3-cp310-cp310-manylinux_2_24_x86_64.manylinux_2_28_x86_64.whl.metadata (3.8 kB)\n",
      "Collecting pyee==11.0.1 (from playwright->TikTokApi)\n",
      "  Downloading pyee-11.0.1-py3-none-any.whl.metadata (2.7 kB)\n",
      "Requirement already satisfied: typing-extensions in /home/null/anaconda3/envs/tiktok_scrape/lib/python3.10/site-packages (from pyee==11.0.1->playwright->TikTokApi) (4.9.0)\n",
      "Collecting charset-normalizer<4,>=2 (from requests->TikTokApi)\n",
      "  Downloading charset_normalizer-3.3.2-cp310-cp310-manylinux_2_17_x86_64.manylinux2014_x86_64.whl.metadata (33 kB)\n",
      "Collecting idna<4,>=2.5 (from requests->TikTokApi)\n",
      "  Downloading idna-3.6-py3-none-any.whl.metadata (9.9 kB)\n",
      "Collecting urllib3<3,>=1.21.1 (from requests->TikTokApi)\n",
      "  Downloading urllib3-2.2.1-py3-none-any.whl.metadata (6.4 kB)\n",
      "Collecting certifi>=2017.4.17 (from requests->TikTokApi)\n",
      "  Downloading certifi-2024.2.2-py3-none-any.whl.metadata (2.2 kB)\n",
      "Downloading TikTokApi-6.2.1-py3-none-any.whl (51 kB)\n",
      "\u001b[2K   \u001b[90m━━━━━━━━━━━━━━━━━━━━━━━━━━━━━━━━━━━━━━━━\u001b[0m \u001b[32m51.5/51.5 kB\u001b[0m \u001b[31m5.1 MB/s\u001b[0m eta \u001b[36m0:00:00\u001b[0m\n",
      "\u001b[?25hDownloading playwright-1.41.2-py3-none-manylinux1_x86_64.whl (37.4 MB)\n",
      "\u001b[2K   \u001b[90m━━━━━━━━━━━━━━━━━━━━━━━━━━━━━━━━━━━━━━━━\u001b[0m \u001b[32m37.4/37.4 MB\u001b[0m \u001b[31m18.9 MB/s\u001b[0m eta \u001b[36m0:00:00\u001b[0m00:01\u001b[0m00:01\u001b[0m\n",
      "\u001b[?25hDownloading greenlet-3.0.3-cp310-cp310-manylinux_2_24_x86_64.manylinux_2_28_x86_64.whl (616 kB)\n",
      "\u001b[2K   \u001b[90m━━━━━━━━━━━━━━━━━━━━━━━━━━━━━━━━━━━━━━━━\u001b[0m \u001b[32m616.0/616.0 kB\u001b[0m \u001b[31m19.1 MB/s\u001b[0m eta \u001b[36m0:00:00\u001b[0m\n",
      "\u001b[?25hDownloading pyee-11.0.1-py3-none-any.whl (15 kB)\n",
      "Downloading requests-2.31.0-py3-none-any.whl (62 kB)\n",
      "\u001b[2K   \u001b[90m━━━━━━━━━━━━━━━━━━━━━━━━━━━━━━━━━━━━━━━━\u001b[0m \u001b[32m62.6/62.6 kB\u001b[0m \u001b[31m8.2 MB/s\u001b[0m eta \u001b[36m0:00:00\u001b[0m\n",
      "\u001b[?25hDownloading certifi-2024.2.2-py3-none-any.whl (163 kB)\n",
      "\u001b[2K   \u001b[90m━━━━━━━━━━━━━━━━━━━━━━━━━━━━━━━━━━━━━━━━\u001b[0m \u001b[32m163.8/163.8 kB\u001b[0m \u001b[31m12.9 MB/s\u001b[0m eta \u001b[36m0:00:00\u001b[0m\n",
      "\u001b[?25hDownloading charset_normalizer-3.3.2-cp310-cp310-manylinux_2_17_x86_64.manylinux2014_x86_64.whl (142 kB)\n",
      "\u001b[2K   \u001b[90m━━━━━━━━━━━━━━━━━━━━━━━━━━━━━━━━━━━━━━━━\u001b[0m \u001b[32m142.1/142.1 kB\u001b[0m \u001b[31m11.2 MB/s\u001b[0m eta \u001b[36m0:00:00\u001b[0m\n",
      "\u001b[?25hDownloading idna-3.6-py3-none-any.whl (61 kB)\n",
      "\u001b[2K   \u001b[90m━━━━━━━━━━━━━━━━━━━━━━━━━━━━━━━━━━━━━━━━\u001b[0m \u001b[32m61.6/61.6 kB\u001b[0m \u001b[31m5.4 MB/s\u001b[0m eta \u001b[36m0:00:00\u001b[0m\n",
      "\u001b[?25hDownloading urllib3-2.2.1-py3-none-any.whl (121 kB)\n",
      "\u001b[2K   \u001b[90m━━━━━━━━━━━━━━━━━━━━━━━━━━━━━━━━━━━━━━━━\u001b[0m \u001b[32m121.1/121.1 kB\u001b[0m \u001b[31m10.8 MB/s\u001b[0m eta \u001b[36m0:00:00\u001b[0m\n",
      "\u001b[?25hInstalling collected packages: urllib3, pyee, idna, greenlet, charset-normalizer, certifi, requests, playwright, TikTokApi\n",
      "Successfully installed TikTokApi-6.2.1 certifi-2024.2.2 charset-normalizer-3.3.2 greenlet-3.0.3 idna-3.6 playwright-1.41.2 pyee-11.0.1 requests-2.31.0 urllib3-2.2.1\n"
     ]
    }
   ],
   "source": [
    "!pip install TikTokApi"
   ]
  },
  {
   "cell_type": "code",
   "execution_count": 2,
   "metadata": {},
   "outputs": [
    {
     "name": "stdout",
     "output_type": "stream",
     "text": [
      "Downloading Chromium 121.0.6167.57 (playwright build v1097)\u001b[2m from https://playwright.azureedge.net/builds/chromium/1097/chromium-linux.zip\u001b[22m\n",
      "\u001b[1G152.8 MiB [                    ] 0% 10.1s\u001b[0K\u001b[1G152.8 MiB [                    ] 0% 22.1s\u001b[0K\u001b[1G152.8 MiB [                    ] 0% 16.6s\u001b[0K\u001b[1G152.8 MiB [                    ] 0% 15.5s\u001b[0K\u001b[1G152.8 MiB [                    ] 0% 13.7s\u001b[0K\u001b[1G152.8 MiB [                    ] 0% 14.1s\u001b[0K\u001b[1G152.8 MiB [                    ] 0% 12.1s\u001b[0K\u001b[1G152.8 MiB [                    ] 0% 12.7s\u001b[0K\u001b[1G152.8 MiB [                    ] 1% 12.4s\u001b[0K\u001b[1G152.8 MiB [                    ] 1% 11.4s\u001b[0K\u001b[1G152.8 MiB [                    ] 1% 10.4s\u001b[0K\u001b[1G152.8 MiB [                    ] 1% 9.9s\u001b[0K\u001b[1G152.8 MiB [                    ] 2% 9.5s\u001b[0K\u001b[1G152.8 MiB [                    ] 2% 9.0s\u001b[0K\u001b[1G152.8 MiB [=                   ] 2% 8.8s\u001b[0K\u001b[1G152.8 MiB [=                   ] 2% 8.7s\u001b[0K\u001b[1G152.8 MiB [=                   ] 3% 8.5s\u001b[0K\u001b[1G152.8 MiB [=                   ] 3% 8.3s\u001b[0K\u001b[1G152.8 MiB [=                   ] 3% 8.1s\u001b[0K\u001b[1G152.8 MiB [=                   ] 4% 7.9s\u001b[0K\u001b[1G152.8 MiB [=                   ] 4% 7.8s\u001b[0K\u001b[1G152.8 MiB [=                   ] 4% 7.6s\u001b[0K\u001b[1G152.8 MiB [=                   ] 4% 7.5s\u001b[0K\u001b[1G152.8 MiB [=                   ] 5% 7.4s\u001b[0K\u001b[1G152.8 MiB [=                   ] 5% 7.3s\u001b[0K\u001b[1G152.8 MiB [=                   ] 5% 7.2s\u001b[0K\u001b[1G152.8 MiB [=                   ] 6% 7.2s\u001b[0K\u001b[1G152.8 MiB [=                   ] 6% 7.1s\u001b[0K\u001b[1G152.8 MiB [=                   ] 7% 7.0s\u001b[0K\u001b[1G152.8 MiB [==                  ] 7% 6.9s\u001b[0K\u001b[1G152.8 MiB [==                  ] 8% 6.8s\u001b[0K\u001b[1G152.8 MiB [==                  ] 8% 6.7s\u001b[0K\u001b[1G152.8 MiB [==                  ] 8% 6.8s\u001b[0K\u001b[1G152.8 MiB [==                  ] 9% 7.1s\u001b[0K\u001b[1G152.8 MiB [==                  ] 10% 6.7s\u001b[0K\u001b[1G152.8 MiB [==                  ] 10% 6.6s\u001b[0K\u001b[1G152.8 MiB [==                  ] 11% 6.6s\u001b[0K\u001b[1G152.8 MiB [==                  ] 11% 6.5s\u001b[0K\u001b[1G152.8 MiB [==                  ] 12% 6.4s\u001b[0K\u001b[1G152.8 MiB [===                 ] 12% 6.4s\u001b[0K\u001b[1G152.8 MiB [===                 ] 12% 6.3s\u001b[0K\u001b[1G152.8 MiB [===                 ] 13% 6.3s\u001b[0K\u001b[1G152.8 MiB [===                 ] 14% 6.4s\u001b[0K\u001b[1G152.8 MiB [===                 ] 14% 6.3s\u001b[0K\u001b[1G152.8 MiB [===                 ] 15% 6.2s\u001b[0K\u001b[1G152.8 MiB [===                 ] 15% 6.1s\u001b[0K\u001b[1G152.8 MiB [===                 ] 16% 6.1s\u001b[0K\u001b[1G152.8 MiB [===                 ] 16% 6.0s\u001b[0K\u001b[1G152.8 MiB [===                 ] 17% 6.0s\u001b[0K\u001b[1G152.8 MiB [===                 ] 17% 6.1s\u001b[0K\u001b[1G152.8 MiB [====                ] 17% 5.9s\u001b[0K\u001b[1G152.8 MiB [====                ] 18% 5.9s\u001b[0K\u001b[1G152.8 MiB [====                ] 18% 5.8s\u001b[0K\u001b[1G152.8 MiB [====                ] 19% 5.8s\u001b[0K\u001b[1G152.8 MiB [====                ] 19% 5.7s\u001b[0K\u001b[1G152.8 MiB [====                ] 20% 5.7s\u001b[0K\u001b[1G152.8 MiB [====                ] 20% 5.6s\u001b[0K\u001b[1G152.8 MiB [====                ] 21% 5.6s\u001b[0K\u001b[1G152.8 MiB [====                ] 21% 5.5s\u001b[0K\u001b[1G152.8 MiB [====                ] 22% 5.5s\u001b[0K\u001b[1G152.8 MiB [=====               ] 22% 5.5s\u001b[0K\u001b[1G152.8 MiB [=====               ] 23% 5.4s\u001b[0K\u001b[1G152.8 MiB [=====               ] 24% 5.3s\u001b[0K\u001b[1G152.8 MiB [=====               ] 25% 5.3s\u001b[0K\u001b[1G152.8 MiB [=====               ] 25% 5.2s\u001b[0K\u001b[1G152.8 MiB [=====               ] 26% 5.2s\u001b[0K\u001b[1G152.8 MiB [=====               ] 27% 5.1s\u001b[0K\u001b[1G152.8 MiB [======              ] 27% 5.1s\u001b[0K\u001b[1G152.8 MiB [======              ] 28% 5.1s\u001b[0K\u001b[1G152.8 MiB [======              ] 28% 5.0s\u001b[0K\u001b[1G152.8 MiB [======              ] 29% 5.0s\u001b[0K\u001b[1G152.8 MiB [======              ] 29% 4.9s\u001b[0K\u001b[1G152.8 MiB [======              ] 30% 4.9s\u001b[0K\u001b[1G152.8 MiB [======              ] 30% 4.8s\u001b[0K\u001b[1G152.8 MiB [======              ] 31% 4.8s\u001b[0K\u001b[1G152.8 MiB [======              ] 32% 4.8s\u001b[0K\u001b[1G152.8 MiB [======              ] 32% 4.7s\u001b[0K\u001b[1G152.8 MiB [=======             ] 32% 4.7s\u001b[0K\u001b[1G152.8 MiB [=======             ] 33% 4.7s\u001b[0K\u001b[1G152.8 MiB [=======             ] 33% 4.6s\u001b[0K\u001b[1G152.8 MiB [=======             ] 34% 4.6s\u001b[0K\u001b[1G152.8 MiB [=======             ] 35% 4.6s\u001b[0K\u001b[1G152.8 MiB [=======             ] 35% 4.5s\u001b[0K\u001b[1G152.8 MiB [=======             ] 36% 4.5s\u001b[0K\u001b[1G152.8 MiB [=======             ] 36% 4.4s\u001b[0K\u001b[1G152.8 MiB [=======             ] 37% 4.4s\u001b[0K\u001b[1G152.8 MiB [========            ] 37% 4.4s\u001b[0K\u001b[1G152.8 MiB [========            ] 38% 4.3s\u001b[0K\u001b[1G152.8 MiB [========            ] 39% 4.3s\u001b[0K\u001b[1G152.8 MiB [========            ] 39% 4.2s\u001b[0K\u001b[1G152.8 MiB [========            ] 40% 4.2s\u001b[0K\u001b[1G152.8 MiB [========            ] 40% 4.1s\u001b[0K\u001b[1G152.8 MiB [========            ] 41% 4.1s\u001b[0K\u001b[1G152.8 MiB [========            ] 42% 4.0s\u001b[0K\u001b[1G152.8 MiB [=========           ] 42% 4.0s\u001b[0K\u001b[1G152.8 MiB [=========           ] 43% 4.0s\u001b[0K\u001b[1G152.8 MiB [=========           ] 43% 3.9s\u001b[0K\u001b[1G152.8 MiB [=========           ] 44% 3.9s\u001b[0K\u001b[1G152.8 MiB [=========           ] 44% 3.8s\u001b[0K\u001b[1G152.8 MiB [=========           ] 45% 3.8s\u001b[0K\u001b[1G152.8 MiB [=========           ] 46% 3.8s\u001b[0K\u001b[1G152.8 MiB [=========           ] 46% 3.7s\u001b[0K\u001b[1G152.8 MiB [=========           ] 47% 3.7s\u001b[0K\u001b[1G152.8 MiB [==========          ] 47% 3.6s\u001b[0K\u001b[1G152.8 MiB [==========          ] 48% 3.6s\u001b[0K\u001b[1G152.8 MiB [==========          ] 49% 3.5s\u001b[0K\u001b[1G152.8 MiB [==========          ] 50% 3.5s\u001b[0K\u001b[1G152.8 MiB [==========          ] 50% 3.4s\u001b[0K\u001b[1G152.8 MiB [==========          ] 51% 3.4s\u001b[0K\u001b[1G152.8 MiB [==========          ] 51% 3.3s\u001b[0K\u001b[1G152.8 MiB [==========          ] 52% 3.3s\u001b[0K\u001b[1G152.8 MiB [===========         ] 52% 3.3s\u001b[0K\u001b[1G152.8 MiB [===========         ] 53% 3.3s\u001b[0K\u001b[1G152.8 MiB [===========         ] 53% 3.2s\u001b[0K\u001b[1G152.8 MiB [===========         ] 54% 3.2s\u001b[0K\u001b[1G152.8 MiB [===========         ] 54% 3.1s\u001b[0K\u001b[1G152.8 MiB [===========         ] 55% 3.1s\u001b[0K\u001b[1G152.8 MiB [===========         ] 56% 3.1s\u001b[0K\u001b[1G152.8 MiB [===========         ] 56% 3.0s\u001b[0K\u001b[1G152.8 MiB [===========         ] 57% 3.0s\u001b[0K\u001b[1G152.8 MiB [============        ] 57% 2.9s\u001b[0K\u001b[1G152.8 MiB [============        ] 58% 2.9s\u001b[0K\u001b[1G152.8 MiB [============        ] 58% 2.8s\u001b[0K\u001b[1G152.8 MiB [============        ] 59% 2.8s\u001b[0K\u001b[1G152.8 MiB [============        ] 60% 2.8s\u001b[0K\u001b[1G152.8 MiB [============        ] 60% 2.7s\u001b[0K\u001b[1G152.8 MiB [============        ] 61% 2.7s\u001b[0K\u001b[1G152.8 MiB [============        ] 61% 2.6s\u001b[0K\u001b[1G152.8 MiB [============        ] 62% 2.6s\u001b[0K\u001b[1G152.8 MiB [=============       ] 62% 2.6s\u001b[0K\u001b[1G152.8 MiB [=============       ] 63% 2.5s\u001b[0K\u001b[1G152.8 MiB [=============       ] 64% 2.5s\u001b[0K\u001b[1G152.8 MiB [=============       ] 64% 2.4s\u001b[0K\u001b[1G152.8 MiB [=============       ] 65% 2.4s\u001b[0K\u001b[1G152.8 MiB [=============       ] 65% 2.3s\u001b[0K\u001b[1G152.8 MiB [=============       ] 66% 2.3s\u001b[0K\u001b[1G152.8 MiB [=============       ] 67% 2.3s\u001b[0K\u001b[1G152.8 MiB [=============       ] 67% 2.2s\u001b[0K\u001b[1G152.8 MiB [==============      ] 67% 2.2s\u001b[0K\u001b[1G152.8 MiB [==============      ] 68% 2.2s\u001b[0K\u001b[1G152.8 MiB [==============      ] 68% 2.1s\u001b[0K\u001b[1G152.8 MiB [==============      ] 69% 2.1s\u001b[0K\u001b[1G152.8 MiB [==============      ] 70% 2.1s\u001b[0K\u001b[1G152.8 MiB [==============      ] 70% 2.0s\u001b[0K\u001b[1G152.8 MiB [==============      ] 71% 2.0s\u001b[0K\u001b[1G152.8 MiB [==============      ] 71% 1.9s\u001b[0K\u001b[1G152.8 MiB [==============      ] 72% 1.9s\u001b[0K\u001b[1G152.8 MiB [===============     ] 72% 1.9s\u001b[0K\u001b[1G152.8 MiB [===============     ] 73% 1.8s\u001b[0K\u001b[1G152.8 MiB [===============     ] 74% 1.8s\u001b[0K\u001b[1G152.8 MiB [===============     ] 74% 1.7s\u001b[0K\u001b[1G152.8 MiB [===============     ] 75% 1.7s\u001b[0K\u001b[1G152.8 MiB [===============     ] 75% 1.6s\u001b[0K\u001b[1G152.8 MiB [===============     ] 76% 1.6s\u001b[0K\u001b[1G152.8 MiB [===============     ] 77% 1.6s\u001b[0K\u001b[1G152.8 MiB [================    ] 77% 1.5s\u001b[0K\u001b[1G152.8 MiB [================    ] 78% 1.5s\u001b[0K\u001b[1G152.8 MiB [================    ] 78% 1.4s\u001b[0K\u001b[1G152.8 MiB [================    ] 79% 1.4s\u001b[0K\u001b[1G152.8 MiB [================    ] 80% 1.4s\u001b[0K\u001b[1G152.8 MiB [================    ] 80% 1.3s\u001b[0K\u001b[1G152.8 MiB [================    ] 81% 1.3s\u001b[0K\u001b[1G152.8 MiB [================    ] 82% 1.2s\u001b[0K\u001b[1G152.8 MiB [=================   ] 82% 1.2s\u001b[0K\u001b[1G152.8 MiB [=================   ] 83% 1.2s\u001b[0K\u001b[1G152.8 MiB [=================   ] 83% 1.1s\u001b[0K\u001b[1G152.8 MiB [=================   ] 84% 1.1s\u001b[0K\u001b[1G152.8 MiB [=================   ] 85% 1.0s\u001b[0K\u001b[1G152.8 MiB [=================   ] 86% 1.0s\u001b[0K\u001b[1G152.8 MiB [=================   ] 86% 0.9s\u001b[0K\u001b[1G152.8 MiB [=================   ] 87% 0.9s\u001b[0K\u001b[1G152.8 MiB [==================  ] 87% 0.9s\u001b[0K\u001b[1G152.8 MiB [==================  ] 88% 0.8s\u001b[0K\u001b[1G152.8 MiB [==================  ] 89% 0.8s\u001b[0K\u001b[1G152.8 MiB [==================  ] 89% 0.7s\u001b[0K\u001b[1G152.8 MiB [==================  ] 90% 0.7s\u001b[0K\u001b[1G152.8 MiB [==================  ] 90% 0.6s\u001b[0K\u001b[1G152.8 MiB [==================  ] 91% 0.6s\u001b[0K\u001b[1G152.8 MiB [==================  ] 92% 0.5s\u001b[0K\u001b[1G152.8 MiB [=================== ] 92% 0.5s\u001b[0K\u001b[1G152.8 MiB [=================== ] 93% 0.5s\u001b[0K\u001b[1G152.8 MiB [=================== ] 93% 0.4s\u001b[0K\u001b[1G152.8 MiB [=================== ] 94% 0.4s\u001b[0K\u001b[1G152.8 MiB [=================== ] 95% 0.3s\u001b[0K\u001b[1G152.8 MiB [=================== ] 96% 0.3s\u001b[0K\u001b[1G152.8 MiB [=================== ] 96% 0.2s\u001b[0K\u001b[1G152.8 MiB [=================== ] 97% 0.2s\u001b[0K\u001b[1G152.8 MiB [====================] 97% 0.2s\u001b[0K\u001b[1G152.8 MiB [====================] 98% 0.1s\u001b[0K\u001b[1G152.8 MiB [====================] 99% 0.1s\u001b[0K\u001b[1G152.8 MiB [====================] 99% 0.0s\u001b[0K\u001b[1G152.8 MiB [====================] 100% 0.0s\u001b[0K\n",
      "Chromium 121.0.6167.57 (playwright build v1097) downloaded to /home/null/.cache/ms-playwright/chromium-1097\n",
      "Downloading FFMPEG playwright build v1009\u001b[2m from https://playwright.azureedge.net/builds/ffmpeg/1009/ffmpeg-linux.zip\u001b[22m\n",
      "\u001b[1G2.6 MiB [                    ] 0% 0.0s\u001b[0K\u001b[1G2.6 MiB [=                   ] 4% 0.3s\u001b[0K\u001b[1G2.6 MiB [===                 ] 12% 0.2s\u001b[0K\u001b[1G2.6 MiB [=====               ] 25% 0.2s\u001b[0K\u001b[1G2.6 MiB [========            ] 37% 0.1s\u001b[0K\u001b[1G2.6 MiB [==========          ] 51% 0.1s\u001b[0K\u001b[1G2.6 MiB [===========         ] 56% 0.1s\u001b[0K\u001b[1G2.6 MiB [=================   ] 83% 0.0s\u001b[0K\u001b[1G2.6 MiB [=================== ] 96% 0.0s\u001b[0K\u001b[1G2.6 MiB [====================] 100% 0.0s\u001b[0K\n",
      "FFMPEG playwright build v1009 downloaded to /home/null/.cache/ms-playwright/ffmpeg-1009\n",
      "Downloading Firefox 121.0 (playwright build v1438)\u001b[2m from https://playwright.azureedge.net/builds/firefox/1438/firefox-ubuntu-22.04.zip\u001b[22m\n",
      "\u001b[1G82.2 MiB [                    ] 0% 0.0s\u001b[0K\u001b[1G82.2 MiB [                    ] 0% 12.1s\u001b[0K\u001b[1G82.2 MiB [                    ] 0% 8.4s\u001b[0K\u001b[1G82.2 MiB [                    ] 0% 7.6s\u001b[0K\u001b[1G82.2 MiB [                    ] 1% 6.3s\u001b[0K\u001b[1G82.2 MiB [                    ] 1% 5.7s\u001b[0K\u001b[1G82.2 MiB [                    ] 1% 5.4s\u001b[0K\u001b[1G82.2 MiB [                    ] 2% 5.3s\u001b[0K\u001b[1G82.2 MiB [=                   ] 2% 5.1s\u001b[0K\u001b[1G82.2 MiB [=                   ] 3% 4.9s\u001b[0K\u001b[1G82.2 MiB [=                   ] 3% 4.8s\u001b[0K\u001b[1G82.2 MiB [=                   ] 3% 4.7s\u001b[0K\u001b[1G82.2 MiB [=                   ] 4% 4.4s\u001b[0K\u001b[1G82.2 MiB [=                   ] 4% 4.3s\u001b[0K\u001b[1G82.2 MiB [=                   ] 5% 4.3s\u001b[0K\u001b[1G82.2 MiB [=                   ] 5% 4.1s\u001b[0K\u001b[1G82.2 MiB [=                   ] 6% 4.1s\u001b[0K\u001b[1G82.2 MiB [=                   ] 6% 4.0s\u001b[0K\u001b[1G82.2 MiB [=                   ] 7% 3.9s\u001b[0K\u001b[1G82.2 MiB [==                  ] 7% 3.9s\u001b[0K\u001b[1G82.2 MiB [==                  ] 8% 3.9s\u001b[0K\u001b[1G82.2 MiB [==                  ] 8% 3.8s\u001b[0K\u001b[1G82.2 MiB [==                  ] 9% 3.7s\u001b[0K\u001b[1G82.2 MiB [==                  ] 10% 3.6s\u001b[0K\u001b[1G82.2 MiB [==                  ] 10% 3.5s\u001b[0K\u001b[1G82.2 MiB [==                  ] 11% 3.5s\u001b[0K\u001b[1G82.2 MiB [==                  ] 11% 3.4s\u001b[0K\u001b[1G82.2 MiB [==                  ] 12% 3.4s\u001b[0K\u001b[1G82.2 MiB [===                 ] 12% 3.3s\u001b[0K\u001b[1G82.2 MiB [===                 ] 13% 3.3s\u001b[0K\u001b[1G82.2 MiB [===                 ] 14% 3.2s\u001b[0K\u001b[1G82.2 MiB [===                 ] 15% 3.2s\u001b[0K\u001b[1G82.2 MiB [===                 ] 16% 3.2s\u001b[0K\u001b[1G82.2 MiB [===                 ] 16% 3.1s\u001b[0K\u001b[1G82.2 MiB [===                 ] 17% 3.1s\u001b[0K\u001b[1G82.2 MiB [====                ] 17% 3.0s\u001b[0K\u001b[1G82.2 MiB [====                ] 18% 3.0s\u001b[0K\u001b[1G82.2 MiB [====                ] 19% 3.0s\u001b[0K\u001b[1G82.2 MiB [====                ] 19% 2.9s\u001b[0K\u001b[1G82.2 MiB [====                ] 20% 2.9s\u001b[0K\u001b[1G82.2 MiB [====                ] 21% 2.9s\u001b[0K\u001b[1G82.2 MiB [====                ] 22% 2.9s\u001b[0K\u001b[1G82.2 MiB [=====               ] 22% 2.8s\u001b[0K\u001b[1G82.2 MiB [=====               ] 23% 2.8s\u001b[0K\u001b[1G82.2 MiB [=====               ] 24% 2.8s\u001b[0K\u001b[1G82.2 MiB [=====               ] 25% 2.7s\u001b[0K\u001b[1G82.2 MiB [=====               ] 26% 2.7s\u001b[0K\u001b[1G82.2 MiB [=====               ] 27% 2.7s\u001b[0K\u001b[1G82.2 MiB [======              ] 27% 2.7s\u001b[0K\u001b[1G82.2 MiB [======              ] 28% 2.6s\u001b[0K\u001b[1G82.2 MiB [======              ] 29% 2.6s\u001b[0K\u001b[1G82.2 MiB [======              ] 29% 2.7s\u001b[0K\u001b[1G82.2 MiB [======              ] 30% 2.5s\u001b[0K\u001b[1G82.2 MiB [======              ] 31% 2.5s\u001b[0K\u001b[1G82.2 MiB [======              ] 32% 2.5s\u001b[0K\u001b[1G82.2 MiB [=======             ] 32% 2.5s\u001b[0K\u001b[1G82.2 MiB [=======             ] 33% 2.5s\u001b[0K\u001b[1G82.2 MiB [=======             ] 33% 2.4s\u001b[0K\u001b[1G82.2 MiB [=======             ] 34% 2.4s\u001b[0K\u001b[1G82.2 MiB [=======             ] 35% 2.4s\u001b[0K\u001b[1G82.2 MiB [=======             ] 36% 2.3s\u001b[0K\u001b[1G82.2 MiB [=======             ] 37% 2.3s\u001b[0K\u001b[1G82.2 MiB [========            ] 37% 2.3s\u001b[0K\u001b[1G82.2 MiB [========            ] 38% 2.3s\u001b[0K\u001b[1G82.2 MiB [========            ] 39% 2.2s\u001b[0K\u001b[1G82.2 MiB [========            ] 40% 2.2s\u001b[0K\u001b[1G82.2 MiB [========            ] 41% 2.2s\u001b[0K\u001b[1G82.2 MiB [========            ] 41% 2.1s\u001b[0K\u001b[1G82.2 MiB [========            ] 42% 2.1s\u001b[0K\u001b[1G82.2 MiB [=========           ] 42% 2.1s\u001b[0K\u001b[1G82.2 MiB [=========           ] 43% 2.1s\u001b[0K\u001b[1G82.2 MiB [=========           ] 44% 2.0s\u001b[0K\u001b[1G82.2 MiB [=========           ] 45% 2.0s\u001b[0K\u001b[1G82.2 MiB [=========           ] 46% 2.0s\u001b[0K\u001b[1G82.2 MiB [=========           ] 47% 1.9s\u001b[0K\u001b[1G82.2 MiB [==========          ] 47% 1.9s\u001b[0K\u001b[1G82.2 MiB [==========          ] 48% 1.9s\u001b[0K\u001b[1G82.2 MiB [==========          ] 49% 1.9s\u001b[0K\u001b[1G82.2 MiB [==========          ] 49% 1.8s\u001b[0K\u001b[1G82.2 MiB [==========          ] 50% 1.8s\u001b[0K\u001b[1G82.2 MiB [==========          ] 51% 1.8s\u001b[0K\u001b[1G82.2 MiB [==========          ] 52% 1.8s\u001b[0K\u001b[1G82.2 MiB [===========         ] 52% 1.7s\u001b[0K\u001b[1G82.2 MiB [===========         ] 53% 1.7s\u001b[0K\u001b[1G82.2 MiB [===========         ] 54% 1.7s\u001b[0K\u001b[1G82.2 MiB [===========         ] 55% 1.7s\u001b[0K\u001b[1G82.2 MiB [===========         ] 55% 1.6s\u001b[0K\u001b[1G82.2 MiB [===========         ] 56% 1.6s\u001b[0K\u001b[1G82.2 MiB [===========         ] 57% 1.6s\u001b[0K\u001b[1G82.2 MiB [============        ] 58% 1.5s\u001b[0K\u001b[1G82.2 MiB [============        ] 59% 1.5s\u001b[0K\u001b[1G82.2 MiB [============        ] 60% 1.5s\u001b[0K\u001b[1G82.2 MiB [============        ] 61% 1.5s\u001b[0K\u001b[1G82.2 MiB [============        ] 62% 1.5s\u001b[0K\u001b[1G82.2 MiB [=============       ] 62% 1.4s\u001b[0K\u001b[1G82.2 MiB [=============       ] 63% 1.4s\u001b[0K\u001b[1G82.2 MiB [=============       ] 64% 1.4s\u001b[0K\u001b[1G82.2 MiB [=============       ] 65% 1.4s\u001b[0K\u001b[1G82.2 MiB [=============       ] 65% 1.3s\u001b[0K\u001b[1G82.2 MiB [=============       ] 66% 1.3s\u001b[0K\u001b[1G82.2 MiB [=============       ] 67% 1.3s\u001b[0K\u001b[1G82.2 MiB [==============      ] 67% 1.3s\u001b[0K\u001b[1G82.2 MiB [==============      ] 68% 1.3s\u001b[0K\u001b[1G82.2 MiB [==============      ] 68% 1.2s\u001b[0K\u001b[1G82.2 MiB [==============      ] 69% 1.2s\u001b[0K\u001b[1G82.2 MiB [==============      ] 70% 1.2s\u001b[0K\u001b[1G82.2 MiB [==============      ] 71% 1.1s\u001b[0K\u001b[1G82.2 MiB [==============      ] 71% 1.2s\u001b[0K\u001b[1G82.2 MiB [==============      ] 72% 1.2s\u001b[0K\u001b[1G82.2 MiB [==============      ] 72% 1.1s\u001b[0K\u001b[1G82.2 MiB [===============     ] 72% 1.1s\u001b[0K\u001b[1G82.2 MiB [===============     ] 73% 1.1s\u001b[0K\u001b[1G82.2 MiB [===============     ] 74% 1.1s\u001b[0K\u001b[1G82.2 MiB [===============     ] 74% 1.0s\u001b[0K\u001b[1G82.2 MiB [===============     ] 75% 1.1s\u001b[0K\u001b[1G82.2 MiB [===============     ] 75% 1.0s\u001b[0K\u001b[1G82.2 MiB [===============     ] 76% 1.0s\u001b[0K\u001b[1G82.2 MiB [===============     ] 77% 1.0s\u001b[0K\u001b[1G82.2 MiB [================    ] 77% 1.0s\u001b[0K\u001b[1G82.2 MiB [================    ] 77% 0.9s\u001b[0K\u001b[1G82.2 MiB [================    ] 78% 0.9s\u001b[0K\u001b[1G82.2 MiB [================    ] 79% 0.9s\u001b[0K\u001b[1G82.2 MiB [================    ] 80% 0.8s\u001b[0K\u001b[1G82.2 MiB [================    ] 81% 0.8s\u001b[0K\u001b[1G82.2 MiB [================    ] 82% 0.8s\u001b[0K\u001b[1G82.2 MiB [=================   ] 82% 0.7s\u001b[0K\u001b[1G82.2 MiB [=================   ] 83% 0.7s\u001b[0K\u001b[1G82.2 MiB [=================   ] 84% 0.7s\u001b[0K\u001b[1G82.2 MiB [=================   ] 84% 0.6s\u001b[0K\u001b[1G82.2 MiB [=================   ] 85% 0.6s\u001b[0K\u001b[1G82.2 MiB [=================   ] 86% 0.6s\u001b[0K\u001b[1G82.2 MiB [=================   ] 87% 0.5s\u001b[0K\u001b[1G82.2 MiB [==================  ] 87% 0.5s\u001b[0K\u001b[1G82.2 MiB [==================  ] 88% 0.5s\u001b[0K\u001b[1G82.2 MiB [==================  ] 89% 0.5s\u001b[0K\u001b[1G82.2 MiB [==================  ] 89% 0.4s\u001b[0K\u001b[1G82.2 MiB [==================  ] 90% 0.4s\u001b[0K\u001b[1G82.2 MiB [==================  ] 91% 0.4s\u001b[0K\u001b[1G82.2 MiB [==================  ] 91% 0.3s\u001b[0K\u001b[1G82.2 MiB [==================  ] 92% 0.3s\u001b[0K\u001b[1G82.2 MiB [=================== ] 92% 0.3s\u001b[0K\u001b[1G82.2 MiB [=================== ] 93% 0.3s\u001b[0K\u001b[1G82.2 MiB [=================== ] 94% 0.2s\u001b[0K\u001b[1G82.2 MiB [=================== ] 95% 0.2s\u001b[0K\u001b[1G82.2 MiB [=================== ] 96% 0.2s\u001b[0K\u001b[1G82.2 MiB [=================== ] 96% 0.1s\u001b[0K\u001b[1G82.2 MiB [=================== ] 97% 0.1s\u001b[0K\u001b[1G82.2 MiB [====================] 97% 0.1s\u001b[0K\u001b[1G82.2 MiB [====================] 98% 0.1s\u001b[0K\u001b[1G82.2 MiB [====================] 99% 0.0s\u001b[0K\u001b[1G82.2 MiB [====================] 100% 0.0s\u001b[0K\n",
      "Firefox 121.0 (playwright build v1438) downloaded to /home/null/.cache/ms-playwright/firefox-1438\n",
      "Downloading Webkit 17.4 (playwright build v1967)\u001b[2m from https://playwright.azureedge.net/builds/webkit/1967/webkit-ubuntu-22.04.zip\u001b[22m\n",
      "\u001b[1G84.8 MiB [                    ] 0% 0.0s\u001b[0K\u001b[1G84.8 MiB [                    ] 0% 11.6s\u001b[0K\u001b[1G84.8 MiB [                    ] 0% 8.0s\u001b[0K\u001b[1G84.8 MiB [                    ] 0% 6.5s\u001b[0K\u001b[1G84.8 MiB [                    ] 1% 5.7s\u001b[0K\u001b[1G84.8 MiB [                    ] 1% 5.2s\u001b[0K\u001b[1G84.8 MiB [                    ] 2% 4.8s\u001b[0K\u001b[1G84.8 MiB [=                   ] 2% 4.5s\u001b[0K\u001b[1G84.8 MiB [=                   ] 3% 4.5s\u001b[0K\u001b[1G84.8 MiB [=                   ] 3% 4.2s\u001b[0K\u001b[1G84.8 MiB [=                   ] 4% 4.2s\u001b[0K\u001b[1G84.8 MiB [=                   ] 4% 4.0s\u001b[0K\u001b[1G84.8 MiB [=                   ] 5% 3.9s\u001b[0K\u001b[1G84.8 MiB [=                   ] 5% 3.8s\u001b[0K\u001b[1G84.8 MiB [=                   ] 6% 3.8s\u001b[0K\u001b[1G84.8 MiB [=                   ] 6% 3.7s\u001b[0K\u001b[1G84.8 MiB [=                   ] 7% 3.6s\u001b[0K\u001b[1G84.8 MiB [==                  ] 7% 3.6s\u001b[0K\u001b[1G84.8 MiB [==                  ] 8% 3.6s\u001b[0K\u001b[1G84.8 MiB [==                  ] 8% 3.7s\u001b[0K\u001b[1G84.8 MiB [==                  ] 9% 3.6s\u001b[0K\u001b[1G84.8 MiB [==                  ] 10% 3.6s\u001b[0K\u001b[1G84.8 MiB [==                  ] 10% 3.5s\u001b[0K\u001b[1G84.8 MiB [==                  ] 11% 3.5s\u001b[0K\u001b[1G84.8 MiB [==                  ] 11% 3.4s\u001b[0K\u001b[1G84.8 MiB [==                  ] 12% 3.4s\u001b[0K\u001b[1G84.8 MiB [===                 ] 12% 3.4s\u001b[0K\u001b[1G84.8 MiB [===                 ] 13% 3.3s\u001b[0K\u001b[1G84.8 MiB [===                 ] 14% 3.3s\u001b[0K\u001b[1G84.8 MiB [===                 ] 14% 3.2s\u001b[0K\u001b[1G84.8 MiB [===                 ] 15% 3.2s\u001b[0K\u001b[1G84.8 MiB [===                 ] 16% 3.2s\u001b[0K\u001b[1G84.8 MiB [===                 ] 16% 3.1s\u001b[0K\u001b[1G84.8 MiB [===                 ] 17% 3.1s\u001b[0K\u001b[1G84.8 MiB [====                ] 17% 3.1s\u001b[0K\u001b[1G84.8 MiB [====                ] 18% 3.1s\u001b[0K\u001b[1G84.8 MiB [====                ] 19% 3.0s\u001b[0K\u001b[1G84.8 MiB [====                ] 20% 3.0s\u001b[0K\u001b[1G84.8 MiB [====                ] 21% 2.9s\u001b[0K\u001b[1G84.8 MiB [====                ] 22% 2.9s\u001b[0K\u001b[1G84.8 MiB [=====               ] 22% 2.9s\u001b[0K\u001b[1G84.8 MiB [=====               ] 23% 2.8s\u001b[0K\u001b[1G84.8 MiB [=====               ] 24% 2.8s\u001b[0K\u001b[1G84.8 MiB [=====               ] 25% 2.8s\u001b[0K\u001b[1G84.8 MiB [=====               ] 26% 2.7s\u001b[0K\u001b[1G84.8 MiB [=====               ] 27% 2.7s\u001b[0K\u001b[1G84.8 MiB [======              ] 27% 2.7s\u001b[0K\u001b[1G84.8 MiB [======              ] 28% 2.7s\u001b[0K\u001b[1G84.8 MiB [======              ] 29% 2.6s\u001b[0K\u001b[1G84.8 MiB [======              ] 30% 2.6s\u001b[0K\u001b[1G84.8 MiB [======              ] 31% 2.5s\u001b[0K\u001b[1G84.8 MiB [======              ] 32% 2.5s\u001b[0K\u001b[1G84.8 MiB [=======             ] 32% 2.5s\u001b[0K\u001b[1G84.8 MiB [=======             ] 33% 2.5s\u001b[0K\u001b[1G84.8 MiB [=======             ] 33% 2.4s\u001b[0K\u001b[1G84.8 MiB [=======             ] 34% 2.4s\u001b[0K\u001b[1G84.8 MiB [=======             ] 35% 2.4s\u001b[0K\u001b[1G84.8 MiB [=======             ] 36% 2.3s\u001b[0K\u001b[1G84.8 MiB [=======             ] 37% 2.3s\u001b[0K\u001b[1G84.8 MiB [========            ] 37% 2.3s\u001b[0K\u001b[1G84.8 MiB [========            ] 38% 2.3s\u001b[0K\u001b[1G84.8 MiB [========            ] 38% 2.2s\u001b[0K\u001b[1G84.8 MiB [========            ] 39% 2.2s\u001b[0K\u001b[1G84.8 MiB [========            ] 40% 2.2s\u001b[0K\u001b[1G84.8 MiB [========            ] 41% 2.1s\u001b[0K\u001b[1G84.8 MiB [=========           ] 42% 2.1s\u001b[0K\u001b[1G84.8 MiB [=========           ] 43% 2.1s\u001b[0K\u001b[1G84.8 MiB [=========           ] 43% 2.0s\u001b[0K\u001b[1G84.8 MiB [=========           ] 44% 2.0s\u001b[0K\u001b[1G84.8 MiB [=========           ] 45% 2.0s\u001b[0K\u001b[1G84.8 MiB [=========           ] 46% 2.0s\u001b[0K\u001b[1G84.8 MiB [=========           ] 46% 1.9s\u001b[0K\u001b[1G84.8 MiB [=========           ] 47% 1.9s\u001b[0K\u001b[1G84.8 MiB [==========          ] 47% 1.9s\u001b[0K\u001b[1G84.8 MiB [==========          ] 48% 1.9s\u001b[0K\u001b[1G84.8 MiB [==========          ] 49% 1.8s\u001b[0K\u001b[1G84.8 MiB [==========          ] 50% 1.8s\u001b[0K\u001b[1G84.8 MiB [==========          ] 51% 1.8s\u001b[0K\u001b[1G84.8 MiB [==========          ] 52% 1.7s\u001b[0K\u001b[1G84.8 MiB [===========         ] 52% 1.7s\u001b[0K\u001b[1G84.8 MiB [===========         ] 53% 1.7s\u001b[0K\u001b[1G84.8 MiB [===========         ] 54% 1.7s\u001b[0K\u001b[1G84.8 MiB [===========         ] 54% 1.6s\u001b[0K\u001b[1G84.8 MiB [===========         ] 55% 1.6s\u001b[0K\u001b[1G84.8 MiB [===========         ] 56% 1.6s\u001b[0K\u001b[1G84.8 MiB [===========         ] 57% 1.5s\u001b[0K\u001b[1G84.8 MiB [============        ] 57% 1.5s\u001b[0K\u001b[1G84.8 MiB [============        ] 58% 1.5s\u001b[0K\u001b[1G84.8 MiB [============        ] 59% 1.5s\u001b[0K\u001b[1G84.8 MiB [============        ] 59% 1.4s\u001b[0K\u001b[1G84.8 MiB [============        ] 60% 1.4s\u001b[0K\u001b[1G84.8 MiB [============        ] 61% 1.4s\u001b[0K\u001b[1G84.8 MiB [============        ] 62% 1.4s\u001b[0K\u001b[1G84.8 MiB [=============       ] 62% 1.4s\u001b[0K\u001b[1G84.8 MiB [=============       ] 62% 1.3s\u001b[0K\u001b[1G84.8 MiB [=============       ] 63% 1.3s\u001b[0K\u001b[1G84.8 MiB [=============       ] 64% 1.3s\u001b[0K\u001b[1G84.8 MiB [=============       ] 65% 1.2s\u001b[0K\u001b[1G84.8 MiB [=============       ] 66% 1.2s\u001b[0K\u001b[1G84.8 MiB [=============       ] 67% 1.2s\u001b[0K\u001b[1G84.8 MiB [==============      ] 68% 1.2s\u001b[0K\u001b[1G84.8 MiB [==============      ] 68% 1.1s\u001b[0K\u001b[1G84.8 MiB [==============      ] 69% 1.1s\u001b[0K\u001b[1G84.8 MiB [==============      ] 70% 1.1s\u001b[0K\u001b[1G84.8 MiB [==============      ] 71% 1.0s\u001b[0K\u001b[1G84.8 MiB [==============      ] 72% 1.0s\u001b[0K\u001b[1G84.8 MiB [===============     ] 72% 1.0s\u001b[0K\u001b[1G84.8 MiB [===============     ] 73% 1.0s\u001b[0K\u001b[1G84.8 MiB [===============     ] 73% 0.9s\u001b[0K\u001b[1G84.8 MiB [===============     ] 74% 0.9s\u001b[0K\u001b[1G84.8 MiB [===============     ] 75% 0.9s\u001b[0K\u001b[1G84.8 MiB [===============     ] 76% 0.9s\u001b[0K\u001b[1G84.8 MiB [===============     ] 76% 0.8s\u001b[0K\u001b[1G84.8 MiB [===============     ] 77% 0.8s\u001b[0K\u001b[1G84.8 MiB [================    ] 77% 0.8s\u001b[0K\u001b[1G84.8 MiB [================    ] 78% 0.8s\u001b[0K\u001b[1G84.8 MiB [================    ] 79% 0.7s\u001b[0K\u001b[1G84.8 MiB [================    ] 80% 0.7s\u001b[0K\u001b[1G84.8 MiB [================    ] 81% 0.7s\u001b[0K\u001b[1G84.8 MiB [================    ] 82% 0.6s\u001b[0K\u001b[1G84.8 MiB [=================   ] 82% 0.6s\u001b[0K\u001b[1G84.8 MiB [=================   ] 83% 0.6s\u001b[0K\u001b[1G84.8 MiB [=================   ] 84% 0.6s\u001b[0K\u001b[1G84.8 MiB [=================   ] 85% 0.5s\u001b[0K\u001b[1G84.8 MiB [=================   ] 86% 0.5s\u001b[0K\u001b[1G84.8 MiB [=================   ] 87% 0.5s\u001b[0K\u001b[1G84.8 MiB [==================  ] 88% 0.4s\u001b[0K\u001b[1G84.8 MiB [==================  ] 89% 0.4s\u001b[0K\u001b[1G84.8 MiB [==================  ] 90% 0.4s\u001b[0K\u001b[1G84.8 MiB [==================  ] 90% 0.3s\u001b[0K\u001b[1G84.8 MiB [==================  ] 91% 0.3s\u001b[0K\u001b[1G84.8 MiB [==================  ] 92% 0.3s\u001b[0K\u001b[1G84.8 MiB [=================== ] 92% 0.3s\u001b[0K\u001b[1G84.8 MiB [=================== ] 93% 0.3s\u001b[0K\u001b[1G84.8 MiB [=================== ] 93% 0.2s\u001b[0K\u001b[1G84.8 MiB [=================== ] 94% 0.2s\u001b[0K\u001b[1G84.8 MiB [=================== ] 95% 0.2s\u001b[0K\u001b[1G84.8 MiB [=================== ] 96% 0.1s\u001b[0K\u001b[1G84.8 MiB [====================] 97% 0.1s\u001b[0K\u001b[1G84.8 MiB [====================] 98% 0.1s\u001b[0K\u001b[1G84.8 MiB [====================] 99% 0.0s\u001b[0K\u001b[1G84.8 MiB [====================] 100% 0.0s\u001b[0K\n",
      "Webkit 17.4 (playwright build v1967) downloaded to /home/null/.cache/ms-playwright/webkit-1967\n"
     ]
    }
   ],
   "source": [
    "!python -m playwright install"
   ]
  },
  {
   "cell_type": "code",
   "execution_count": 49,
   "metadata": {},
   "outputs": [],
   "source": [
    "from TikTokApi import TikTokApi\n",
    "import asyncio\n",
    "import os"
   ]
  },
  {
   "cell_type": "code",
   "execution_count": 50,
   "metadata": {},
   "outputs": [
    {
     "name": "stdout",
     "output_type": "stream",
     "text": [
      "R94m6SITQDlFWtyf-IFZJHWt07pQjDqKaWHPch2kQsq3eY8XSjlsify7Q1KlS1smUZBcdRPPl2AXX5BrJTf44bFW-ncaq9fNefG12fSbLBnN60Ri9Ywl_1kL_K5PGg4jD3t6kgwYvJhfq2k\n"
     ]
    }
   ],
   "source": [
    "print(ms_token)"
   ]
  },
  {
   "cell_type": "code",
   "execution_count": 51,
   "metadata": {},
   "outputs": [],
   "source": [
    "async def trending_videos():\n",
    "    async with TikTokApi() as api:\n",
    "        await api.create_sessions(num_sessions=1, sleep_after=3)\n",
    "        async for video in api.trending.videos(count=5):\n",
    "            print(video)\n",
    "            print(video.as_dict)"
   ]
  },
  {
   "cell_type": "code",
   "execution_count": 52,
   "metadata": {},
   "outputs": [
    {
     "ename": "EmptyResponseException",
     "evalue": "None -> TikTok returned an empty response",
     "output_type": "error",
     "traceback": [
      "\u001b[0;31m---------------------------------------------------------------------------\u001b[0m",
      "\u001b[0;31mEmptyResponseException\u001b[0m                    Traceback (most recent call last)",
      "Cell \u001b[0;32mIn[52], line 1\u001b[0m\n\u001b[0;32m----> 1\u001b[0m \u001b[38;5;28;01mawait\u001b[39;00m trending_videos()\n",
      "Cell \u001b[0;32mIn[51], line 4\u001b[0m, in \u001b[0;36mtrending_videos\u001b[0;34m()\u001b[0m\n\u001b[1;32m      2\u001b[0m \u001b[38;5;28;01masync\u001b[39;00m \u001b[38;5;28;01mwith\u001b[39;00m TikTokApi() \u001b[38;5;28;01mas\u001b[39;00m api:\n\u001b[1;32m      3\u001b[0m     \u001b[38;5;28;01mawait\u001b[39;00m api\u001b[38;5;241m.\u001b[39mcreate_sessions(num_sessions\u001b[38;5;241m=\u001b[39m\u001b[38;5;241m1\u001b[39m, sleep_after\u001b[38;5;241m=\u001b[39m\u001b[38;5;241m3\u001b[39m)\n\u001b[0;32m----> 4\u001b[0m     \u001b[38;5;28;01masync\u001b[39;00m \u001b[38;5;28;01mfor\u001b[39;00m video \u001b[38;5;129;01min\u001b[39;00m api\u001b[38;5;241m.\u001b[39mtrending\u001b[38;5;241m.\u001b[39mvideos(count\u001b[38;5;241m=\u001b[39m\u001b[38;5;241m5\u001b[39m):\n\u001b[1;32m      5\u001b[0m         \u001b[38;5;28mprint\u001b[39m(video)\n\u001b[1;32m      6\u001b[0m         \u001b[38;5;28mprint\u001b[39m(video\u001b[38;5;241m.\u001b[39mas_dict)\n",
      "File \u001b[0;32m~/anaconda3/envs/tiktok_scrape/lib/python3.10/site-packages/TikTokApi/api/trending.py:43\u001b[0m, in \u001b[0;36mTrending.videos\u001b[0;34m(count, **kwargs)\u001b[0m\n\u001b[1;32m     37\u001b[0m \u001b[38;5;28;01mwhile\u001b[39;00m found \u001b[38;5;241m<\u001b[39m count:\n\u001b[1;32m     38\u001b[0m     params \u001b[38;5;241m=\u001b[39m {\n\u001b[1;32m     39\u001b[0m         \u001b[38;5;124m\"\u001b[39m\u001b[38;5;124mfrom_page\u001b[39m\u001b[38;5;124m\"\u001b[39m: \u001b[38;5;124m\"\u001b[39m\u001b[38;5;124mfyp\u001b[39m\u001b[38;5;124m\"\u001b[39m,\n\u001b[1;32m     40\u001b[0m         \u001b[38;5;124m\"\u001b[39m\u001b[38;5;124mcount\u001b[39m\u001b[38;5;124m\"\u001b[39m: count,\n\u001b[1;32m     41\u001b[0m     }\n\u001b[0;32m---> 43\u001b[0m     resp \u001b[38;5;241m=\u001b[39m \u001b[38;5;28;01mawait\u001b[39;00m Trending\u001b[38;5;241m.\u001b[39mparent\u001b[38;5;241m.\u001b[39mmake_request(\n\u001b[1;32m     44\u001b[0m         url\u001b[38;5;241m=\u001b[39m\u001b[38;5;124m\"\u001b[39m\u001b[38;5;124mhttps://www.tiktok.com/api/recommend/item_list/\u001b[39m\u001b[38;5;124m\"\u001b[39m,\n\u001b[1;32m     45\u001b[0m         params\u001b[38;5;241m=\u001b[39mparams,\n\u001b[1;32m     46\u001b[0m         headers\u001b[38;5;241m=\u001b[39mkwargs\u001b[38;5;241m.\u001b[39mget(\u001b[38;5;124m\"\u001b[39m\u001b[38;5;124mheaders\u001b[39m\u001b[38;5;124m\"\u001b[39m),\n\u001b[1;32m     47\u001b[0m         session_index\u001b[38;5;241m=\u001b[39mkwargs\u001b[38;5;241m.\u001b[39mget(\u001b[38;5;124m\"\u001b[39m\u001b[38;5;124msession_index\u001b[39m\u001b[38;5;124m\"\u001b[39m),\n\u001b[1;32m     48\u001b[0m     )\n\u001b[1;32m     50\u001b[0m     \u001b[38;5;28;01mif\u001b[39;00m resp \u001b[38;5;129;01mis\u001b[39;00m \u001b[38;5;28;01mNone\u001b[39;00m:\n\u001b[1;32m     51\u001b[0m         \u001b[38;5;28;01mraise\u001b[39;00m InvalidResponseException(\n\u001b[1;32m     52\u001b[0m             resp, \u001b[38;5;124m\"\u001b[39m\u001b[38;5;124mTikTok returned an invalid response.\u001b[39m\u001b[38;5;124m\"\u001b[39m\n\u001b[1;32m     53\u001b[0m         )\n",
      "File \u001b[0;32m~/anaconda3/envs/tiktok_scrape/lib/python3.10/site-packages/TikTokApi/tiktok.py:430\u001b[0m, in \u001b[0;36mTikTokApi.make_request\u001b[0;34m(self, url, headers, params, retries, exponential_backoff, **kwargs)\u001b[0m\n\u001b[1;32m    427\u001b[0m     \u001b[38;5;28;01mraise\u001b[39;00m \u001b[38;5;167;01mException\u001b[39;00m(\u001b[38;5;124m\"\u001b[39m\u001b[38;5;124mTikTokApi.run_fetch_script returned None\u001b[39m\u001b[38;5;124m\"\u001b[39m)\n\u001b[1;32m    429\u001b[0m \u001b[38;5;28;01mif\u001b[39;00m result \u001b[38;5;241m==\u001b[39m \u001b[38;5;124m\"\u001b[39m\u001b[38;5;124m\"\u001b[39m:\n\u001b[0;32m--> 430\u001b[0m     \u001b[38;5;28;01mraise\u001b[39;00m EmptyResponseException(result, \u001b[38;5;124m\"\u001b[39m\u001b[38;5;124mTikTok returned an empty response\u001b[39m\u001b[38;5;124m\"\u001b[39m)\n\u001b[1;32m    432\u001b[0m \u001b[38;5;28;01mtry\u001b[39;00m:\n\u001b[1;32m    433\u001b[0m     data \u001b[38;5;241m=\u001b[39m json\u001b[38;5;241m.\u001b[39mloads(result)\n",
      "\u001b[0;31mEmptyResponseException\u001b[0m: None -> TikTok returned an empty response"
     ]
    }
   ],
   "source": [
    "await trending_videos()"
   ]
  },
  {
   "cell_type": "code",
   "execution_count": 44,
   "metadata": {},
   "outputs": [
    {
     "name": "stdout",
     "output_type": "stream",
     "text": [
      "/home/null/anaconda3/envs/tiktok_scrape/bin/python: Error while finding module specification for 'examples.trending_example' (ModuleNotFoundError: No module named 'examples')\n"
     ]
    }
   ],
   "source": [
    "!python -m examples.trending_example"
   ]
  },
  {
   "cell_type": "code",
   "execution_count": 53,
   "metadata": {},
   "outputs": [
    {
     "name": "stdout",
     "output_type": "stream",
     "text": [
      "Found existing installation: TikTokApi 6.2.1\n",
      "Uninstalling TikTokApi-6.2.1:\n",
      "  Would remove:\n",
      "    /home/null/anaconda3/envs/tiktok_scrape/lib/python3.10/site-packages/TikTokApi-6.2.1.dist-info/*\n",
      "    /home/null/anaconda3/envs/tiktok_scrape/lib/python3.10/site-packages/TikTokApi/*\n",
      "    /home/null/anaconda3/envs/tiktok_scrape/lib/python3.10/site-packages/tests/*\n",
      "Proceed (Y/n)? ^C\n",
      "\u001b[31mERROR: Operation cancelled by user\u001b[0m\u001b[31m\n",
      "\u001b[0mRemoving unused browser at /home/null/.cache/ms-playwright/chromium-1097\n",
      "Removing unused browser at /home/null/.cache/ms-playwright/ffmpeg-1009\n",
      "Removing unused browser at /home/null/.cache/ms-playwright/firefox-1438\n",
      "Removing unused browser at /home/null/.cache/ms-playwright/webkit-1967\n"
     ]
    }
   ],
   "source": [
    "!pip uninstall TikTokApi\n",
    "!python -m playwright uninstall"
   ]
  },
  {
   "cell_type": "code",
   "execution_count": null,
   "metadata": {},
   "outputs": [],
   "source": []
  }
 ],
 "metadata": {
  "kernelspec": {
   "display_name": "tiktok_scrape",
   "language": "python",
   "name": "python3"
  },
  "language_info": {
   "codemirror_mode": {
    "name": "ipython",
    "version": 3
   },
   "file_extension": ".py",
   "mimetype": "text/x-python",
   "name": "python",
   "nbconvert_exporter": "python",
   "pygments_lexer": "ipython3",
   "version": "3.10.13"
  }
 },
 "nbformat": 4,
 "nbformat_minor": 2
}
